{
  "nbformat": 4,
  "nbformat_minor": 0,
  "metadata": {
    "colab": {
      "provenance": []
    },
    "kernelspec": {
      "name": "python3",
      "display_name": "Python 3"
    },
    "language_info": {
      "name": "python"
    }
  },
  "cells": [
    {
      "cell_type": "markdown",
      "source": [
        "Python Functions"
      ],
      "metadata": {
        "id": "FyGRxYv8ZBR_"
      }
    },
    {
      "cell_type": "code",
      "execution_count": 1,
      "metadata": {
        "id": "7JCztKLamlHc"
      },
      "outputs": [],
      "source": [
        "def add_two(a,b): #user defined function\n",
        "  return a + b"
      ]
    },
    {
      "cell_type": "code",
      "source": [
        "add_two(2,3)"
      ],
      "metadata": {
        "colab": {
          "base_uri": "https://localhost:8080/"
        },
        "id": "Q9ihishVmxTm",
        "outputId": "2037475f-9c30-48db-be8d-689edbe57a6a"
      },
      "execution_count": 2,
      "outputs": [
        {
          "output_type": "execute_result",
          "data": {
            "text/plain": [
              "5"
            ]
          },
          "metadata": {},
          "execution_count": 2
        }
      ]
    },
    {
      "cell_type": "code",
      "source": [
        "def multi_table(a): #user defined function\n",
        "  for i in range(1,11):\n",
        "    print(f'{a} x {i} = {a*i}')"
      ],
      "metadata": {
        "id": "1GjFl_vam0qY"
      },
      "execution_count": 3,
      "outputs": []
    },
    {
      "cell_type": "code",
      "source": [
        "n = int(input('Enter a number: ')) #user input\n",
        "multi_table(n)"
      ],
      "metadata": {
        "colab": {
          "base_uri": "https://localhost:8080/"
        },
        "id": "XgEmlHqLnDTE",
        "outputId": "7fd50a1b-85a2-4ecc-94ab-b7650d870984"
      },
      "execution_count": 4,
      "outputs": [
        {
          "output_type": "stream",
          "name": "stdout",
          "text": [
            "Enter a number: 5\n",
            "5 x 1 = 5\n",
            "5 x 2 = 10\n",
            "5 x 3 = 15\n",
            "5 x 4 = 20\n",
            "5 x 5 = 25\n",
            "5 x 6 = 30\n",
            "5 x 7 = 35\n",
            "5 x 8 = 40\n",
            "5 x 9 = 45\n",
            "5 x 10 = 50\n"
          ]
        }
      ]
    },
    {
      "cell_type": "code",
      "source": [
        "#function with default value\n",
        "def add_two_default(a = 2,b = 3): #user defined function\n",
        "  print(a+b)"
      ],
      "metadata": {
        "id": "5mGZZ8wVnGXD"
      },
      "execution_count": 5,
      "outputs": []
    },
    {
      "cell_type": "code",
      "source": [
        "add_two_default(5,5)"
      ],
      "metadata": {
        "colab": {
          "base_uri": "https://localhost:8080/"
        },
        "id": "us0NKgwSnd_k",
        "outputId": "5739e65d-a555-4c9e-babe-188fb508b9f6"
      },
      "execution_count": 6,
      "outputs": [
        {
          "output_type": "stream",
          "name": "stdout",
          "text": [
            "10\n"
          ]
        }
      ]
    },
    {
      "cell_type": "code",
      "source": [
        "print('hello')  #in_built function"
      ],
      "metadata": {
        "colab": {
          "base_uri": "https://localhost:8080/"
        },
        "id": "rBa3vhItni4A",
        "outputId": "131e3f04-68f1-411e-a810-b1fdf2b865b8"
      },
      "execution_count": 7,
      "outputs": [
        {
          "output_type": "stream",
          "name": "stdout",
          "text": [
            "hello\n"
          ]
        }
      ]
    },
    {
      "cell_type": "code",
      "source": [
        "#anonymous functions"
      ],
      "metadata": {
        "id": "mPe06ZOcoRc8"
      },
      "execution_count": 8,
      "outputs": []
    },
    {
      "cell_type": "code",
      "source": [
        "a = lambda a : a ** 2 #lambda function"
      ],
      "metadata": {
        "id": "WoG8BKe5olZF"
      },
      "execution_count": 9,
      "outputs": []
    },
    {
      "cell_type": "code",
      "source": [
        "a(4)"
      ],
      "metadata": {
        "colab": {
          "base_uri": "https://localhost:8080/"
        },
        "id": "3SgJXOQhpLHE",
        "outputId": "c263b775-e947-4c81-86e4-4d8e74c6ce19"
      },
      "execution_count": 10,
      "outputs": [
        {
          "output_type": "execute_result",
          "data": {
            "text/plain": [
              "16"
            ]
          },
          "metadata": {},
          "execution_count": 10
        }
      ]
    },
    {
      "cell_type": "code",
      "source": [
        "(lambda a : a ** 2)(3)"
      ],
      "metadata": {
        "colab": {
          "base_uri": "https://localhost:8080/"
        },
        "id": "JMSceYc2pOmF",
        "outputId": "373833dc-53f8-499d-f98a-50fca7eb9edc"
      },
      "execution_count": 11,
      "outputs": [
        {
          "output_type": "execute_result",
          "data": {
            "text/plain": [
              "9"
            ]
          },
          "metadata": {},
          "execution_count": 11
        }
      ]
    },
    {
      "cell_type": "code",
      "source": [
        "(lambda : 'hello')() #anonymous function"
      ],
      "metadata": {
        "colab": {
          "base_uri": "https://localhost:8080/",
          "height": 35
        },
        "id": "jRvVoFljpW4o",
        "outputId": "c5164d01-b6ad-4616-a8d6-65a63d35bb5b"
      },
      "execution_count": 12,
      "outputs": [
        {
          "output_type": "execute_result",
          "data": {
            "text/plain": [
              "'hello'"
            ],
            "application/vnd.google.colaboratory.intrinsic+json": {
              "type": "string"
            }
          },
          "metadata": {},
          "execution_count": 12
        }
      ]
    },
    {
      "cell_type": "code",
      "source": [
        "a = lambda : 'hello' #anonymous function"
      ],
      "metadata": {
        "id": "fOVv2hSbp4Cz"
      },
      "execution_count": 13,
      "outputs": []
    },
    {
      "cell_type": "code",
      "source": [
        "a()"
      ],
      "metadata": {
        "colab": {
          "base_uri": "https://localhost:8080/",
          "height": 35
        },
        "id": "Yf8-OVwOp8Ss",
        "outputId": "0d1f93a5-56b1-4c46-fca0-ed3225cfa38f"
      },
      "execution_count": 14,
      "outputs": [
        {
          "output_type": "execute_result",
          "data": {
            "text/plain": [
              "'hello'"
            ],
            "application/vnd.google.colaboratory.intrinsic+json": {
              "type": "string"
            }
          },
          "metadata": {},
          "execution_count": 14
        }
      ]
    },
    {
      "cell_type": "code",
      "source": [
        "from math import pi #importing a module"
      ],
      "metadata": {
        "id": "zEXNETrfp9Hl"
      },
      "execution_count": 15,
      "outputs": []
    },
    {
      "cell_type": "code",
      "source": [
        "pi"
      ],
      "metadata": {
        "colab": {
          "base_uri": "https://localhost:8080/"
        },
        "id": "4m3HYG88q_cB",
        "outputId": "eccf844d-3648-4f20-ce92-b05861afaee3"
      },
      "execution_count": 16,
      "outputs": [
        {
          "output_type": "execute_result",
          "data": {
            "text/plain": [
              "3.141592653589793"
            ]
          },
          "metadata": {},
          "execution_count": 16
        }
      ]
    },
    {
      "cell_type": "code",
      "source": [
        "def square(r): #user defined function\n",
        "  return r ** 2"
      ],
      "metadata": {
        "id": "XWSUFho1rACY"
      },
      "execution_count": 17,
      "outputs": []
    },
    {
      "cell_type": "code",
      "source": [
        "def area_of_circle(pi,r,f): #user defined function\n",
        "  return pi * f(r)"
      ],
      "metadata": {
        "id": "2i_6UsJ2rEcc"
      },
      "execution_count": 18,
      "outputs": []
    },
    {
      "cell_type": "code",
      "source": [
        "area_of_circle(pi,2,square) #calling a function"
      ],
      "metadata": {
        "colab": {
          "base_uri": "https://localhost:8080/"
        },
        "id": "X8Ed6JMxrLuR",
        "outputId": "1ba7f61f-3792-4530-83c2-f4fac3dbe41b"
      },
      "execution_count": 19,
      "outputs": [
        {
          "output_type": "execute_result",
          "data": {
            "text/plain": [
              "12.566370614359172"
            ]
          },
          "metadata": {},
          "execution_count": 19
        }
      ]
    },
    {
      "cell_type": "code",
      "source": [
        "#map filter"
      ],
      "metadata": {
        "id": "5zYEVkPPrSlc"
      },
      "execution_count": 20,
      "outputs": []
    },
    {
      "cell_type": "code",
      "source": [
        "l = [1,2,3,4,5]"
      ],
      "metadata": {
        "id": "xbIwIFJero68"
      },
      "execution_count": 21,
      "outputs": []
    },
    {
      "cell_type": "code",
      "source": [
        "list(map(square,l)) #map"
      ],
      "metadata": {
        "colab": {
          "base_uri": "https://localhost:8080/"
        },
        "id": "08BOToJtrtRS",
        "outputId": "fbe53f46-c9d3-4b70-964e-2a9775fdc749"
      },
      "execution_count": 22,
      "outputs": [
        {
          "output_type": "execute_result",
          "data": {
            "text/plain": [
              "[1, 4, 9, 16, 25]"
            ]
          },
          "metadata": {},
          "execution_count": 22
        }
      ]
    },
    {
      "cell_type": "code",
      "source": [
        "def even_check(n):\n",
        "  if n%2==0:\n",
        "    return n"
      ],
      "metadata": {
        "id": "ngfT0hDJrwOs"
      },
      "execution_count": 23,
      "outputs": []
    },
    {
      "cell_type": "code",
      "source": [
        "even_check(5) #user defined function"
      ],
      "metadata": {
        "id": "KlYAsDfesP6s"
      },
      "execution_count": 24,
      "outputs": []
    },
    {
      "cell_type": "code",
      "source": [
        "list(map(even_check,l)) #filter"
      ],
      "metadata": {
        "colab": {
          "base_uri": "https://localhost:8080/"
        },
        "id": "OJ3_NKG7sRcB",
        "outputId": "a1d3bc5f-1758-46f5-d2e3-fbe7a538d195"
      },
      "execution_count": 25,
      "outputs": [
        {
          "output_type": "execute_result",
          "data": {
            "text/plain": [
              "[None, 2, None, 4, None]"
            ]
          },
          "metadata": {},
          "execution_count": 25
        }
      ]
    },
    {
      "cell_type": "code",
      "source": [
        "list(filter(even_check,l)) #filter"
      ],
      "metadata": {
        "colab": {
          "base_uri": "https://localhost:8080/"
        },
        "id": "-G2rGp2DsW_f",
        "outputId": "4e4f694e-98b1-4b52-d81a-68b4bb01d4f0"
      },
      "execution_count": 26,
      "outputs": [
        {
          "output_type": "execute_result",
          "data": {
            "text/plain": [
              "[2, 4]"
            ]
          },
          "metadata": {},
          "execution_count": 26
        }
      ]
    },
    {
      "cell_type": "code",
      "source": [
        "list(filter(lambda n : n%2 == 0,l)) #filter"
      ],
      "metadata": {
        "colab": {
          "base_uri": "https://localhost:8080/"
        },
        "id": "NhrsR79dser3",
        "outputId": "7c56b223-f6ba-4f0c-ccb6-0d500369e0dc"
      },
      "execution_count": 27,
      "outputs": [
        {
          "output_type": "execute_result",
          "data": {
            "text/plain": [
              "[2, 4]"
            ]
          },
          "metadata": {},
          "execution_count": 27
        }
      ]
    },
    {
      "cell_type": "code",
      "source": [
        "from testfunc import add_three  #modularity (Upload a testfunc.py if working with colab before you run this command)"
      ],
      "metadata": {
        "id": "yf_OYgyytBYm"
      },
      "execution_count": 1,
      "outputs": []
    },
    {
      "cell_type": "code",
      "source": [
        "add_three(3,4,5) #importing a function from a module"
      ],
      "metadata": {
        "colab": {
          "base_uri": "https://localhost:8080/"
        },
        "id": "KHxj2Jupt8A1",
        "outputId": "075a4a34-ddf3-4c4c-92ad-b7473f73af64"
      },
      "execution_count": null,
      "outputs": [
        {
          "output_type": "execute_result",
          "data": {
            "text/plain": [
              "12"
            ]
          },
          "metadata": {},
          "execution_count": 45
        }
      ]
    },
    {
      "cell_type": "code",
      "source": [
        "def vowelcount(s): #user defined function\n",
        "  count = 0\n",
        "  vowels = 'aeiouAEIOU'\n",
        "  for i in s:\n",
        "    if i in vowels:\n",
        "      count += 1\n",
        "  return count"
      ],
      "metadata": {
        "id": "kdg549UAt-Tn"
      },
      "execution_count": null,
      "outputs": []
    },
    {
      "cell_type": "code",
      "source": [
        "vowelcount('nasreen')  #calling a function"
      ],
      "metadata": {
        "colab": {
          "base_uri": "https://localhost:8080/"
        },
        "id": "METMDhstvcJ0",
        "outputId": "679d1575-23ec-4445-eac2-d05c1beada98"
      },
      "execution_count": null,
      "outputs": [
        {
          "output_type": "execute_result",
          "data": {
            "text/plain": [
              "3"
            ]
          },
          "metadata": {},
          "execution_count": 50
        }
      ]
    },
    {
      "cell_type": "code",
      "source": [
        "s = 'shalmali'  #string\n",
        "for i in s:\n",
        "  if i in 'nasreen':\n",
        "    print(i)"
      ],
      "metadata": {
        "colab": {
          "base_uri": "https://localhost:8080/"
        },
        "id": "xGyLnYnLveUV",
        "outputId": "0cd7f471-b6cf-42d2-c3ae-93c5e2385a76"
      },
      "execution_count": null,
      "outputs": [
        {
          "output_type": "stream",
          "name": "stdout",
          "text": [
            "s\n",
            "a\n",
            "a\n"
          ]
        }
      ]
    }
  ]
}