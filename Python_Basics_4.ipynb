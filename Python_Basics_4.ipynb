{
  "nbformat": 4,
  "nbformat_minor": 0,
  "metadata": {
    "colab": {
      "provenance": []
    },
    "kernelspec": {
      "name": "python3",
      "display_name": "Python 3"
    },
    "language_info": {
      "name": "python"
    }
  },
  "cells": [
    {
      "cell_type": "markdown",
      "source": [
        "**Object Oriented Programming Concepts in Python**\n",
        "\n",
        "---\n",
        "\n",
        "\n",
        "\n"
      ],
      "metadata": {
        "id": "L7tyCSTa59bG"
      }
    },
    {
      "cell_type": "code",
      "source": [
        "class Employee:  #class name\n",
        "  def __init__(self,id):\n",
        "    '''this is an Example Function in python'''\n",
        "    self.id=id\n",
        "\n",
        "  def add_two(self,a,b):\n",
        "   return a+b"
      ],
      "metadata": {
        "id": "qAU5oEDh6BO5"
      },
      "execution_count": null,
      "outputs": []
    },
    {
      "cell_type": "code",
      "source": [
        "Employee  #class name"
      ],
      "metadata": {
        "colab": {
          "base_uri": "https://localhost:8080/",
          "height": 104
        },
        "id": "fnj-vCXjw9nE",
        "outputId": "a4fcfa21-0fdb-4be8-d9e1-10fec942684c"
      },
      "execution_count": 3,
      "outputs": [
        {
          "output_type": "execute_result",
          "data": {
            "text/plain": [
              "__main__.Employee"
            ],
            "text/html": [
              "<div style=\"max-width:800px; border: 1px solid var(--colab-border-color);\"><style>\n",
              "      pre.function-repr-contents {\n",
              "        overflow-x: auto;\n",
              "        padding: 8px 12px;\n",
              "        max-height: 500px;\n",
              "      }\n",
              "\n",
              "      pre.function-repr-contents.function-repr-contents-collapsed {\n",
              "        cursor: pointer;\n",
              "        max-height: 100px;\n",
              "      }\n",
              "    </style>\n",
              "    <pre style=\"white-space: initial; background:\n",
              "         var(--colab-secondary-surface-color); padding: 8px 12px;\n",
              "         border-bottom: 1px solid var(--colab-border-color);\"><b>Employee</b><br/>def __init__(id)</pre><pre class=\"function-repr-contents function-repr-contents-collapsed\" style=\"\"><a class=\"filepath\" style=\"display:none\" href=\"#\"></a>&lt;no docstring&gt;</pre></div>"
            ]
          },
          "metadata": {},
          "execution_count": 3
        }
      ]
    },
    {
      "cell_type": "code",
      "source": [
        "employee1 = Employee(1002)  #object creation\n",
        "employee1"
      ],
      "metadata": {
        "colab": {
          "base_uri": "https://localhost:8080/"
        },
        "id": "tp0-kTOow_Aq",
        "outputId": "23ac51e8-6697-4b6c-a891-c94609ffcbd6"
      },
      "execution_count": 4,
      "outputs": [
        {
          "output_type": "execute_result",
          "data": {
            "text/plain": [
              "<__main__.Employee at 0x7c132532c550>"
            ]
          },
          "metadata": {},
          "execution_count": 4
        }
      ]
    },
    {
      "cell_type": "code",
      "source": [
        "employee1.id  #accessing the attribute"
      ],
      "metadata": {
        "colab": {
          "base_uri": "https://localhost:8080/"
        },
        "id": "77SoACiayTPV",
        "outputId": "d67aaa12-ccec-4ff7-ce51-db4d11af509d"
      },
      "execution_count": 5,
      "outputs": [
        {
          "output_type": "execute_result",
          "data": {
            "text/plain": [
              "1002"
            ]
          },
          "metadata": {},
          "execution_count": 5
        }
      ]
    },
    {
      "cell_type": "code",
      "source": [
        "employee1.add_two(3,4)  #calling the method"
      ],
      "metadata": {
        "colab": {
          "base_uri": "https://localhost:8080/"
        },
        "id": "exPYVZTpyXxa",
        "outputId": "66a3f258-41f3-48f2-9af0-279f69c71576"
      },
      "execution_count": 6,
      "outputs": [
        {
          "output_type": "execute_result",
          "data": {
            "text/plain": [
              "7"
            ]
          },
          "metadata": {},
          "execution_count": 6
        }
      ]
    },
    {
      "cell_type": "code",
      "source": [
        "e2 = Employee(2)  #object creation\n",
        "e2"
      ],
      "metadata": {
        "id": "P5EWeHgoyx7M"
      },
      "execution_count": 7,
      "outputs": []
    },
    {
      "cell_type": "code",
      "source": [
        "e2.add_two(6,7)  #calling the method"
      ],
      "metadata": {
        "colab": {
          "base_uri": "https://localhost:8080/"
        },
        "id": "BAJxYofAy-3H",
        "outputId": "5ee81acf-1503-4e98-ef87-fa2363f4eb51"
      },
      "execution_count": 8,
      "outputs": [
        {
          "output_type": "execute_result",
          "data": {
            "text/plain": [
              "13"
            ]
          },
          "metadata": {},
          "execution_count": 8
        }
      ]
    },
    {
      "cell_type": "code",
      "source": [
        "class Person:  #class name\n",
        "  def __init__(self):\n",
        "    print('inside __init__()')\n",
        "  def add(self,id):\n",
        "    return id ** 2"
      ],
      "metadata": {
        "id": "JmdsviCTzHJK"
      },
      "execution_count": 10,
      "outputs": []
    },
    {
      "cell_type": "code",
      "source": [
        "p1 = Person()  #object creation\n",
        "p1.add(3)"
      ],
      "metadata": {
        "colab": {
          "base_uri": "https://localhost:8080/"
        },
        "id": "cijHsus7z1PI",
        "outputId": "26748a9d-2ac5-4d8a-d6b8-c4b73dde6e82"
      },
      "execution_count": 11,
      "outputs": [
        {
          "output_type": "execute_result",
          "data": {
            "text/plain": [
              "9"
            ]
          },
          "metadata": {},
          "execution_count": 11
        }
      ]
    },
    {
      "cell_type": "code",
      "source": [
        "class Employee:  #class name\n",
        "  def __init__(self,id):\n",
        "    print('inside __init__()')\n",
        "    print(f'self = {self}')\n",
        "    self.id = id"
      ],
      "metadata": {
        "id": "XQrpSP2zz8es"
      },
      "execution_count": 12,
      "outputs": []
    },
    {
      "cell_type": "code",
      "source": [
        "E1 = Employee(1002)  #object creation\n",
        "print(f'E1 = {E1}')"
      ],
      "metadata": {
        "colab": {
          "base_uri": "https://localhost:8080/"
        },
        "id": "f_rOuykc0juU",
        "outputId": "1eb5c2e3-4a2f-4838-b17e-ff8126663df3"
      },
      "execution_count": 13,
      "outputs": [
        {
          "output_type": "stream",
          "name": "stdout",
          "text": [
            "inside __init__()\n",
            "self = <__main__.Employee object at 0x7c132532d7e0>\n",
            "E1 = <__main__.Employee object at 0x7c132532d7e0>\n"
          ]
        }
      ]
    },
    {
      "cell_type": "code",
      "source": [
        "E1.id  #accessing the attribute"
      ],
      "metadata": {
        "colab": {
          "base_uri": "https://localhost:8080/"
        },
        "id": "I4nX0N5V0q5T",
        "outputId": "512e068f-8f9e-4965-98cc-457af1a38ec7"
      },
      "execution_count": 14,
      "outputs": [
        {
          "output_type": "execute_result",
          "data": {
            "text/plain": [
              "1002"
            ]
          },
          "metadata": {},
          "execution_count": 14
        }
      ]
    },
    {
      "cell_type": "code",
      "source": [
        "class Employee:  #class name\n",
        "  def __init__(self,id,first_name,last_name):\n",
        "    self.id = id\n",
        "    self.first_name = first_name\n",
        "    self.last_name = last_name\n",
        "  def get_id(self):\n",
        "    return self.id\n",
        "  def get_full_name(self):\n",
        "    return f'{self.first_name} {self.last_name}'"
      ],
      "metadata": {
        "id": "2BbAuPvd0zWw"
      },
      "execution_count": 15,
      "outputs": []
    },
    {
      "cell_type": "code",
      "source": [
        "E1 = Employee(1002,'John','Doe')  #object creation\n",
        "E1"
      ],
      "metadata": {
        "colab": {
          "base_uri": "https://localhost:8080/"
        },
        "id": "OPCbt8vT1T44",
        "outputId": "5fd56b8f-9f24-4126-d0f0-436e78eab0de"
      },
      "execution_count": 16,
      "outputs": [
        {
          "output_type": "execute_result",
          "data": {
            "text/plain": [
              "<__main__.Employee at 0x7c132532dfc0>"
            ]
          },
          "metadata": {},
          "execution_count": 16
        }
      ]
    },
    {
      "cell_type": "code",
      "source": [
        "E1.id  #accessing the attribute"
      ],
      "metadata": {
        "colab": {
          "base_uri": "https://localhost:8080/"
        },
        "id": "iMhP_ac91YZl",
        "outputId": "e06b7f60-8d7d-45f8-dd0e-938e34665d3f"
      },
      "execution_count": 17,
      "outputs": [
        {
          "output_type": "execute_result",
          "data": {
            "text/plain": [
              "1002"
            ]
          },
          "metadata": {},
          "execution_count": 17
        }
      ]
    },
    {
      "cell_type": "code",
      "source": [
        "E1.first_name  #accessing the attribute"
      ],
      "metadata": {
        "colab": {
          "base_uri": "https://localhost:8080/",
          "height": 35
        },
        "id": "xMpf8udA1Zrn",
        "outputId": "f3f38c02-f954-4794-9a93-975a9ab9ce8b"
      },
      "execution_count": 18,
      "outputs": [
        {
          "output_type": "execute_result",
          "data": {
            "text/plain": [
              "'John'"
            ],
            "application/vnd.google.colaboratory.intrinsic+json": {
              "type": "string"
            }
          },
          "metadata": {},
          "execution_count": 18
        }
      ]
    },
    {
      "cell_type": "code",
      "source": [
        "E1.last_name  #accessing the attribute"
      ],
      "metadata": {
        "colab": {
          "base_uri": "https://localhost:8080/",
          "height": 36
        },
        "id": "jXJRFKRX1bcN",
        "outputId": "217e3ce6-1c25-4fd6-e585-2d7f241673e5"
      },
      "execution_count": null,
      "outputs": [
        {
          "output_type": "execute_result",
          "data": {
            "text/plain": [
              "'Doe'"
            ],
            "application/vnd.google.colaboratory.intrinsic+json": {
              "type": "string"
            }
          },
          "metadata": {},
          "execution_count": 41
        }
      ]
    },
    {
      "cell_type": "code",
      "source": [
        "E1.get_id()  #calling the method"
      ],
      "metadata": {
        "colab": {
          "base_uri": "https://localhost:8080/"
        },
        "id": "rXoDSgti1etE",
        "outputId": "0fb239ce-1882-4970-9d2a-2c0ef6380a36"
      },
      "execution_count": null,
      "outputs": [
        {
          "output_type": "execute_result",
          "data": {
            "text/plain": [
              "1002"
            ]
          },
          "metadata": {},
          "execution_count": 42
        }
      ]
    },
    {
      "cell_type": "code",
      "source": [
        "E1.get_full_name()  #calling the method"
      ],
      "metadata": {
        "colab": {
          "base_uri": "https://localhost:8080/",
          "height": 36
        },
        "id": "D4qHA6Gb19Rt",
        "outputId": "1a0072bc-fd1e-4403-a989-cd73083dab39"
      },
      "execution_count": null,
      "outputs": [
        {
          "output_type": "execute_result",
          "data": {
            "text/plain": [
              "'John Doe'"
            ],
            "application/vnd.google.colaboratory.intrinsic+json": {
              "type": "string"
            }
          },
          "metadata": {},
          "execution_count": 43
        }
      ]
    },
    {
      "cell_type": "code",
      "source": [
        "#inheritance\n",
        "class Developer(Employee):   #subclass\n",
        "  def __init__(self,id,first_name,last_name,salary):\n",
        "    super().__init__(id,first_name,last_name)\n",
        "    self.salary = salary\n"
      ],
      "metadata": {
        "id": "kQJQ28NZ2C8_"
      },
      "execution_count": 21,
      "outputs": []
    },
    {
      "cell_type": "code",
      "source": [
        "help(Developer)"
      ],
      "metadata": {
        "colab": {
          "base_uri": "https://localhost:8080/"
        },
        "id": "VE6iMhns2fRa",
        "outputId": "86e50f6a-5043-431b-efb4-3b235a1da9bf",
        "collapsed": true
      },
      "execution_count": 22,
      "outputs": [
        {
          "output_type": "stream",
          "name": "stdout",
          "text": [
            "Help on class Developer in module __main__:\n",
            "\n",
            "class Developer(Employee)\n",
            " |  Developer(id, first_name, last_name, salary)\n",
            " |  \n",
            " |  Method resolution order:\n",
            " |      Developer\n",
            " |      Employee\n",
            " |      builtins.object\n",
            " |  \n",
            " |  Methods defined here:\n",
            " |  \n",
            " |  __init__(self, id, first_name, last_name, salary)\n",
            " |      Initialize self.  See help(type(self)) for accurate signature.\n",
            " |  \n",
            " |  ----------------------------------------------------------------------\n",
            " |  Methods inherited from Employee:\n",
            " |  \n",
            " |  get_full_name(self)\n",
            " |  \n",
            " |  get_id(self)\n",
            " |  \n",
            " |  ----------------------------------------------------------------------\n",
            " |  Data descriptors inherited from Employee:\n",
            " |  \n",
            " |  __dict__\n",
            " |      dictionary for instance variables (if defined)\n",
            " |  \n",
            " |  __weakref__\n",
            " |      list of weak references to the object (if defined)\n",
            "\n"
          ]
        }
      ]
    },
    {
      "cell_type": "code",
      "source": [
        "d1 = Developer(1003,'peter','deo',100000)  #object creation\n",
        "d1"
      ],
      "metadata": {
        "id": "huGHbiBa2hNl"
      },
      "execution_count": 23,
      "outputs": []
    },
    {
      "cell_type": "code",
      "source": [
        "d1.get_full_name()  #calling the method"
      ],
      "metadata": {
        "colab": {
          "base_uri": "https://localhost:8080/",
          "height": 35
        },
        "id": "e8iKf7jb2-WQ",
        "outputId": "e6831b65-a4e5-4289-a5b7-ba9f0ce61252"
      },
      "execution_count": 24,
      "outputs": [
        {
          "output_type": "execute_result",
          "data": {
            "text/plain": [
              "'peter deo'"
            ],
            "application/vnd.google.colaboratory.intrinsic+json": {
              "type": "string"
            }
          },
          "metadata": {},
          "execution_count": 24
        }
      ]
    },
    {
      "cell_type": "code",
      "source": [
        "d1.salary  #accessing the attribute"
      ],
      "metadata": {
        "colab": {
          "base_uri": "https://localhost:8080/"
        },
        "id": "A0wF5k_j3G4c",
        "outputId": "7802f3f5-909b-4705-f434-e4d0a9abb948"
      },
      "execution_count": 25,
      "outputs": [
        {
          "output_type": "execute_result",
          "data": {
            "text/plain": [
              "100000"
            ]
          },
          "metadata": {},
          "execution_count": 25
        }
      ]
    },
    {
      "cell_type": "code",
      "source": [
        "class Myclass:\n",
        "  ''' this i class level doc string '''\n",
        "  def __init__(self,a,b):\n",
        "    ''' this is a init dunder function'''\n",
        "    self.a = a\n",
        "    self.b = b\n",
        "  def __habeeb__(self):\n",
        "    '''This is user defined dunder function'''\n",
        "    return f'{self.a} {self.b}'"
      ],
      "metadata": {
        "id": "pVevZOoQ3JcL"
      },
      "execution_count": 26,
      "outputs": []
    },
    {
      "cell_type": "code",
      "source": [
        "m1 = Myclass('peter',20)  #object creation\n",
        "m1"
      ],
      "metadata": {
        "colab": {
          "base_uri": "https://localhost:8080/"
        },
        "id": "GXwOy2Q74MCU",
        "outputId": "0dea7bf8-891d-4154-a4cf-ccb3da3c5ee3"
      },
      "execution_count": null,
      "outputs": [
        {
          "output_type": "execute_result",
          "data": {
            "text/plain": [
              "<__main__.Myclass at 0x7d08618baf20>"
            ]
          },
          "metadata": {},
          "execution_count": 56
        }
      ]
    },
    {
      "cell_type": "code",
      "source": [
        "print(m1)  #print function"
      ],
      "metadata": {
        "colab": {
          "base_uri": "https://localhost:8080/"
        },
        "id": "-oef9E3U4REv",
        "outputId": "3cbc809a-a2f9-4222-84a5-10b33c65be58"
      },
      "execution_count": null,
      "outputs": [
        {
          "output_type": "stream",
          "name": "stdout",
          "text": [
            "<__main__.Myclass object at 0x7d08618baf20>\n"
          ]
        }
      ]
    },
    {
      "cell_type": "code",
      "source": [
        "class Myclass:\n",
        "  def __init__(self,name,age):\n",
        "    self.name = name\n",
        "    self.age = age\n",
        "  def __add__(self,other):\n",
        "    '''hello'''\n",
        "    result = self.age + other.age\n",
        "    return Myclass(f'{self.name} and {other.name}',result)"
      ],
      "metadata": {
        "id": "kIDQ8Ykv4TQs"
      },
      "execution_count": null,
      "outputs": []
    },
    {
      "cell_type": "code",
      "source": [
        "m1 = Myclass('object1',56)  #object creation\n",
        "m1"
      ],
      "metadata": {
        "id": "WtBca51P5OiS"
      },
      "execution_count": null,
      "outputs": []
    },
    {
      "cell_type": "code",
      "source": [
        "m2 = Myclass('object2',25)  #object creation\n",
        "m2"
      ],
      "metadata": {
        "id": "pS6NFk5D5Thr"
      },
      "execution_count": null,
      "outputs": []
    },
    {
      "cell_type": "code",
      "source": [
        "combined = m1 + m2  #operator overloading\n",
        "combined"
      ],
      "metadata": {
        "id": "_WXv9rpn590h"
      },
      "execution_count": null,
      "outputs": []
    },
    {
      "cell_type": "code",
      "source": [
        "print(combined.name)\n",
        "print(combined.age )"
      ],
      "metadata": {
        "colab": {
          "base_uri": "https://localhost:8080/"
        },
        "id": "hwss0EX96AoA",
        "outputId": "7d60a4f8-89e7-40d2-c6b9-75bbd53e783f"
      },
      "execution_count": null,
      "outputs": [
        {
          "output_type": "stream",
          "name": "stdout",
          "text": [
            "object1 and object2\n",
            "81\n"
          ]
        }
      ]
    },
    {
      "cell_type": "code",
      "source": [
        "Myclass.__add__.__doc__  #class level doc string"
      ],
      "metadata": {
        "colab": {
          "base_uri": "https://localhost:8080/",
          "height": 36
        },
        "id": "3G02Xoas6EUE",
        "outputId": "08561327-2271-4d39-e0e6-d1455afddc40"
      },
      "execution_count": null,
      "outputs": [
        {
          "output_type": "execute_result",
          "data": {
            "text/plain": [
              "'hello'"
            ],
            "application/vnd.google.colaboratory.intrinsic+json": {
              "type": "string"
            }
          },
          "metadata": {},
          "execution_count": 76
        }
      ]
    },
    {
      "cell_type": "code",
      "source": [
        "from teestclass import Employee  #importing the class"
      ],
      "metadata": {
        "id": "N-Lsrinp7ixF"
      },
      "execution_count": null,
      "outputs": []
    },
    {
      "cell_type": "code",
      "source": [
        "e1 = Employee('peter',25,4545454)"
      ],
      "metadata": {
        "id": "yjp4IZR37n2q"
      },
      "execution_count": null,
      "outputs": []
    },
    {
      "cell_type": "code",
      "source": [
        "e1.name  #accessing the attribute"
      ],
      "metadata": {
        "colab": {
          "base_uri": "https://localhost:8080/",
          "height": 36
        },
        "id": "2I6LyGih7tQd",
        "outputId": "6112789f-e9d4-497d-8241-04d070ee55c1"
      },
      "execution_count": null,
      "outputs": [
        {
          "output_type": "execute_result",
          "data": {
            "text/plain": [
              "'peter'"
            ],
            "application/vnd.google.colaboratory.intrinsic+json": {
              "type": "string"
            }
          },
          "metadata": {},
          "execution_count": 79
        }
      ]
    },
    {
      "cell_type": "code",
      "source": [
        "e1.add_two(3,4)"
      ],
      "metadata": {
        "colab": {
          "base_uri": "https://localhost:8080/"
        },
        "id": "YvIpuriP7v8D",
        "outputId": "cac412b7-f46a-43d6-8a5e-f647cb334665"
      },
      "execution_count": null,
      "outputs": [
        {
          "output_type": "execute_result",
          "data": {
            "text/plain": [
              "7"
            ]
          },
          "metadata": {},
          "execution_count": 80
        }
      ]
    },
    {
      "cell_type": "code",
      "source": [
        "from teestclass import Employee"
      ],
      "metadata": {
        "id": "2_a26QRO74Qf"
      },
      "execution_count": null,
      "outputs": []
    }
  ]
}